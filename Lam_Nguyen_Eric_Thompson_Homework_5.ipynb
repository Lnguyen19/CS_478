{
  "nbformat": 4,
  "nbformat_minor": 0,
  "metadata": {
    "colab": {
      "provenance": [],
      "include_colab_link": true
    },
    "kernelspec": {
      "name": "python3",
      "display_name": "Python 3"
    },
    "language_info": {
      "name": "python"
    }
  },
  "cells": [
    {
      "cell_type": "markdown",
      "metadata": {
        "id": "view-in-github",
        "colab_type": "text"
      },
      "source": [
        "<a href=\"https://colab.research.google.com/github/Lnguyen19/CS_478/blob/main/Lam_Nguyen_Eric_Thompson_Homework_5.ipynb\" target=\"_parent\"><img src=\"https://colab.research.google.com/assets/colab-badge.svg\" alt=\"Open In Colab\"/></a>"
      ]
    },
    {
      "cell_type": "code",
      "execution_count": null,
      "metadata": {
        "colab": {
          "base_uri": "https://localhost:8080/",
          "height": 387
        },
        "id": "GDZ2LohhcMpO",
        "outputId": "abc346f2-cc1a-4d71-bf0b-8c99ab541d43"
      },
      "outputs": [
        {
          "output_type": "stream",
          "name": "stdout",
          "text": [
            "  class                                            message\n",
            "0   ham  Go until jurong point, crazy.. Available only ...\n",
            "1   ham                      Ok lar... Joking wif u oni...\n",
            "2  spam  Free entry in 2 a wkly comp to win FA Cup fina...\n",
            "3   ham  U dun say so early hor... U c already then say...\n",
            "4   ham  Nah I don't think he goes to usf, he lives aro...\n"
          ]
        },
        {
          "output_type": "display_data",
          "data": {
            "text/plain": [
              "<Figure size 432x288 with 1 Axes>"
            ],
            "image/png": "[encoded data removed]"
          },
          "metadata": {
            "needs_background": "light"
          }
        }
      ],
      "source": [
        "# 1\n",
        "# Load the dependencies and your data set.\n",
        "import keras\n",
        "from keras.datasets import imdb\n",
        "from keras_preprocessing.sequence import pad_sequences\n",
        "from sklearn import preprocessing\n",
        "from keras.models import Sequential\n",
        "from keras.layers import Dense, Flatten, Dropout\n",
        "from keras.layers import Embedding, SpatialDropout1D, Conv1D, GlobalMaxPool1D, Conv1D, MaxPooling1D, GlobalMaxPooling1D\n",
        "from keras.callbacks import ModelCheckpoint\n",
        "import os\n",
        "from sklearn.metrics import roc_auc_score, roc_curve\n",
        "from sklearn.model_selection import train_test_split\n",
        "import pandas as pd\n",
        "import matplotlib.pyplot as plt\n",
        "%matplotlib inline\n",
        "\n",
        "from keras.layers import LSTM, Bidirectional # LSTM\n",
        "from keras.layers import GRU # GRU\n",
        "from keras.models import Model # Non sequential model\n",
        "from keras.layers import Input, concatenate # Non sequential model\n",
        "\n",
        "from keras.layers import SimpleRNN\n",
        "\n",
        "import pickle\n",
        "import numpy as np\n",
        "from keras.preprocessing.text import Tokenizer\n",
        "\n",
        "# Reading in data from url\n",
        "dataset_url = 'https://raw.githubusercontent.com/WithAPorpoise/public_datasets/main/spam_ham_dataset.csv'\n",
        "data = pd.read_csv(dataset_url, usecols=[\"class\", \"message\"]) # Ignore NaN columns\n",
        "print(data.head())\n",
        "\n",
        "# Split message and class columns into variables\n",
        "message_data = data[\"message\"]\n",
        "class_data = data[\"class\"]\n",
        "\n",
        "class_data.value_counts().plot(kind='bar')\n",
        "\n",
        "labelEncoder = preprocessing.LabelEncoder()\n",
        "class_data = labelEncoder.fit_transform(class_data)\n",
        "class_data = class_data.reshape(-1, 1)"
      ]
    },
    {
      "cell_type": "code",
      "source": [
        "# 2\n",
        "# Separate your data set between train and test in a 70/30 split. \n",
        "# Additionally, I would like you to print a graph of the number of \n",
        "# label_value_counts() of the data set to show the distribution of labels.\n",
        "\n",
        "x_train, x_test, y_train, y_test = train_test_split(message_data, class_data, test_size=0.3)\n",
        "\n"
      ],
      "metadata": {
        "id": "5dl9Ijo8cqxa"
      },
      "execution_count": null,
      "outputs": []
    },
    {
      "cell_type": "code",
      "source": [
        "# 4\n",
        "#    Set your hyperparameters:\n",
        "\n",
        "#    epochs,\n",
        "#    batch size,\n",
        "#    dimension,\n",
        "#    unique words,\n",
        "#    stop words,\n",
        "#    maximum message length,\n",
        "#    padding type,\n",
        "#    truncation type,\n",
        "#    #dense layer,\n",
        "#    dropout,\n",
        "#    n_filters,\n",
        "#    optimizers,\n",
        "#    or anything else needed.\n",
        "\n",
        "output_dir = 'model_output/dense'\n",
        "epochs = 3\n",
        "batch_size = 128\n",
        "\n",
        "n_dim = 100\n",
        "n_unique_words = 5000\n",
        "total_elements = 5405\n",
        "n_words_to_skip = 50\n",
        "pad_type = trunc_type = 'pre'\n",
        "n_dense = 100\n",
        "dropout = 0.5\n",
        "#CNN\n",
        "cnn_max_review =100 \n",
        "cnn_dense = 256\n",
        "cnn_dropout = 0.2\n",
        "n_conv = 256\n",
        "k_conv = 3\n",
        "\n",
        "#RNN\n",
        "n_rnn = 256\n",
        "drop_rnn = 0.2\n",
        "drop_embed = 0.2\n",
        "\n",
        "#LSTM\n",
        "out_put_ = 'model_output/conv'\n",
        "lstm_max_review = 100\n",
        "lstm_drop_embed = 0.2\n",
        "lstm_n_conv = 256 \n",
        "lstm_k_conv = 0.2\n",
        "lstm_dropout = 0.2"
      ],
      "metadata": {
        "id": "3r0KvUeRc7Bg"
      },
      "execution_count": null,
      "outputs": []
    },
    {
      "cell_type": "code",
      "source": [
        "# HW5 HyperParams\n",
        "# LSTM layer architecture:\n",
        "n_lstm = 256 \n",
        "drop_lstm = 0.2\n",
        "\n",
        "# CNN architecture\n",
        "n_conv = 64\n",
        "k_conv = 3\n",
        "mp_size=4\n",
        "\n",
        "# GRU architecture\n",
        "n_gru = 256\n",
        "drop_gru = 0.2\n",
        "\n",
        "# LSTM stack layer architecture\n",
        "n_lstm_1 = 64\n",
        "n_lstm_2 = 64\n",
        "drop_lstm = 0.2\n",
        "\n",
        "# Multi conv (Non-sequential)\n",
        "n_conv_1 = n_conv_2 = n_conv_3 = 256\n",
        "k_conv_1 = 3\n",
        "k_conv_2 = 2\n",
        "k_conv_3 = 4"
      ],
      "metadata": {
        "id": "iE_dkduPJz7M"
      },
      "execution_count": null,
      "outputs": []
    },
    {
      "cell_type": "code",
      "source": [
        "# 3\n",
        "# Apply all ( or subset of) the preprocessing steps that we learned in the class:\n",
        "# Tokenization\n",
        "# Convertion to lowercase\n",
        "# Removing stop words\n",
        "# Removing puntuation\n",
        "# Stemming\n",
        "# n-grams\n",
        "\n",
        "max_message_length = 100\n",
        "\n",
        "from sklearn.feature_extraction.text import CountVectorizer\n",
        "\n",
        "vect = CountVectorizer()\n",
        "vect.fit(x_train)\n",
        "\n",
        "# Tokenizing\n",
        "token = Tokenizer(num_words=n_unique_words)\n",
        "token.fit_on_texts(x_train)\n",
        "\n",
        "x_train_emb = token.texts_to_sequences(x_train)\n",
        "x_test_emb = token.texts_to_sequences(x_test)\n",
        "\n",
        "print(x_train[1])\n",
        "print(x_train_emb[1])\n",
        "\n",
        "x_train = pad_sequences(x_train_emb, padding='pre', maxlen=max_message_length)\n",
        "x_test = pad_sequences(x_test_emb, padding='pre', maxlen=max_message_length)\n",
        "\n",
        "print(x_train[1])"
      ],
      "metadata": {
        "id": "uLUYOqZOczUQ",
        "colab": {
          "base_uri": "https://localhost:8080/"
        },
        "outputId": "19fb2f8e-8f1d-4ffa-d23d-2b1b8715f68a"
      },
      "execution_count": null,
      "outputs": [
        {
          "output_type": "stream",
          "name": "stdout",
          "text": [
            "Ok lar... Joking wif u oni...\n",
            "[38, 22, 1796, 2, 1797, 21, 13, 2314, 12, 2315, 3428, 9, 2316, 2317, 13, 3429, 31, 620, 757, 141, 310]\n",
            "[   0    0    0    0    0    0    0    0    0    0    0    0    0    0\n",
            "    0    0    0    0    0    0    0    0    0    0    0    0    0    0\n",
            "    0    0    0    0    0    0    0    0    0    0    0    0    0    0\n",
            "    0    0    0    0    0    0    0    0    0    0    0    0    0    0\n",
            "    0    0    0    0    0    0    0    0    0    0    0    0    0    0\n",
            "    0    0    0    0    0    0    0    0    0   38   22 1796    2 1797\n",
            "   21   13 2314   12 2315 3428    9 2316 2317   13 3429   31  620  757\n",
            "  141  310]\n"
          ]
        }
      ]
    },
    {
      "cell_type": "code",
      "source": [],
      "metadata": {
        "id": "Um0WgbqXpqUC"
      },
      "execution_count": null,
      "outputs": []
    },
    {
      "cell_type": "code",
      "source": [
        "# 5\n",
        "#     Create, fit and evaluate the following models:\n",
        "\n",
        "# Follow the instructions laid out from class lecture. Create one of each of the following models:\n",
        "\n",
        "#    Dense\n",
        "#    Convolutional\n",
        "#    Simple RNN\n",
        "#    LSTM\n",
        "\n",
        "# Dense\n",
        "model1 = Sequential() # Each layer flows to the next\n",
        "#1st hidden layer\n",
        "model1.add(Embedding(n_unique_words, n_dim, input_length=max_message_length))\n",
        "model1.add(Flatten())\n",
        "#2nd hidden layer\n",
        "model1.add(Dense(n_dense, activation='relu'))\n",
        "model1.add(Dropout(dropout))\n",
        "#3rd hidden layer if needed more\n",
        "model1.add(Dense(n_dense, activation='relu'))\n",
        "model1.add(Dropout(dropout))\n",
        "#Output layer: Single sigmoid neuron to predict binary classification\n",
        "model1.add(Dense(1, activation='sigmoid'))\n",
        "\n",
        "# CNN\n",
        "model2 = Sequential()\n",
        "model2.add(Embedding(n_unique_words, n_dim, input_length=cnn_max_review))\n",
        "model2.add(SpatialDropout1D(drop_embed))\n",
        "model2.add(Conv1D(n_conv,k_conv,activation = 'relu'))\n",
        "model2.add(GlobalMaxPool1D())\n",
        "model2.add(Dense(cnn_dense,activation='relu'))\n",
        "model2.add(Dropout(cnn_dropout))\n",
        "model2.add(Dense(1,activation = 'sigmoid'))\n",
        "\n",
        "# RNN\n",
        "model3 = Sequential()\n",
        "#1st hidden layer\n",
        "model3.add(Embedding(n_unique_words, n_dim, input_length=max_message_length))\n",
        "model3.add(SpatialDropout1D(drop_embed))\n",
        "#2nd hidden layer\n",
        "model3.add(SimpleRNN(n_rnn, dropout=drop_rnn))\n",
        "#output layer\n",
        "model3.add(Dense(1, activation='sigmoid'))\n",
        "\n",
        "# LSTM (ERROR: Shapes None,100 and None,100,100 are incompatible)\n",
        "model4 = Sequential()\n",
        "model4.add(Embedding(n_unique_words, n_dim, input_length= lstm_max_review)) \n",
        "model4.add(SpatialDropout1D(lstm_drop_embed))\n",
        "#model4.add(Conv1D(lstm_n_conv, lstm_k_conv, activation='relu'))\n",
        "#model4.add(GlobalMaxPool1D())\n",
        "model4.add(Dense(n_dense, activation='relu'))\n",
        "model4.add(Dropout(lstm_dropout))\n",
        "model4.add(Dense(1, activation='sigmoid'))\n",
        "\n",
        "# Compiling\n",
        "model1.compile(loss='binary_crossentropy', optimizer='adam', metrics=['accuracy'])\n",
        "model2.compile(loss='binary_crossentropy', optimizer='adam', metrics=['accuracy'])\n",
        "model3.compile(loss='binary_crossentropy', optimizer='adam', metrics=['accuracy'])\n",
        "model4.compile(loss='binary_crossentropy', optimizer='adam', metrics=['accuracy'])\n",
        "\n",
        "# Fitting\n",
        "history1 =  model1.fit(x_train, y_train, batch_size=batch_size, epochs=epochs, verbose=1, validation_data=(x_test, y_test))\n",
        "history2 =  model2.fit(x_train, y_train, batch_size=batch_size, epochs=epochs, verbose=1, validation_data=(x_test, y_test))\n",
        "history3 =  model3.fit(x_train, y_train, batch_size=batch_size, epochs=epochs, verbose=1, validation_data=(x_test, y_test))\n",
        "history4 =  model4.fit(x_train, y_train, batch_size=batch_size, epochs=epochs, verbose=1, validation_data=(x_test, y_test))"
      ],
      "metadata": {
        "id": "SRtlquVzdEBM",
        "colab": {
          "base_uri": "https://localhost:8080/"
        },
        "outputId": "f579c72f-b55f-4258-82de-8d053abd6d7f"
      },
      "execution_count": null,
      "outputs": [
        {
          "output_type": "stream",
          "name": "stdout",
          "text": [
            "Epoch 1/3\n",
            "30/30 [==============================] - 2s 48ms/step - loss: 0.3997 - accuracy: 0.8522 - val_loss: 0.2830 - val_accuracy: 0.8619\n",
            "Epoch 2/3\n",
            "30/30 [==============================] - 1s 40ms/step - loss: 0.2089 - accuracy: 0.8781 - val_loss: 0.1699 - val_accuracy: 0.9346\n",
            "Epoch 3/3\n",
            "30/30 [==============================] - 1s 39ms/step - loss: 0.1258 - accuracy: 0.9603 - val_loss: 0.0917 - val_accuracy: 0.9846\n",
            "Epoch 1/3\n",
            "30/30 [==============================] - 3s 79ms/step - loss: 0.4646 - accuracy: 0.8668 - val_loss: 0.3740 - val_accuracy: 0.8619\n",
            "Epoch 2/3\n",
            "30/30 [==============================] - 2s 71ms/step - loss: 0.3255 - accuracy: 0.8673 - val_loss: 0.2742 - val_accuracy: 0.8619\n",
            "Epoch 3/3\n",
            "30/30 [==============================] - 2s 72ms/step - loss: 0.2082 - accuracy: 0.8845 - val_loss: 0.1802 - val_accuracy: 0.9525\n",
            "Epoch 1/3\n",
            "30/30 [==============================] - 11s 323ms/step - loss: 0.4321 - accuracy: 0.8491 - val_loss: 0.4347 - val_accuracy: 0.8619\n",
            "Epoch 2/3\n",
            "30/30 [==============================] - 9s 313ms/step - loss: 0.3908 - accuracy: 0.8673 - val_loss: 0.3883 - val_accuracy: 0.8619\n",
            "Epoch 3/3\n",
            "30/30 [==============================] - 9s 312ms/step - loss: 0.3551 - accuracy: 0.8673 - val_loss: 0.3464 - val_accuracy: 0.8619\n",
            "Epoch 1/3\n",
            "30/30 [==============================] - 3s 67ms/step - loss: 0.5922 - accuracy: 0.7967 - val_loss: 0.4676 - val_accuracy: 0.8660\n",
            "Epoch 2/3\n",
            "30/30 [==============================] - 2s 61ms/step - loss: 0.4003 - accuracy: 0.8736 - val_loss: 0.3893 - val_accuracy: 0.8716\n",
            "Epoch 3/3\n",
            "30/30 [==============================] - 2s 60ms/step - loss: 0.3749 - accuracy: 0.8788 - val_loss: 0.3782 - val_accuracy: 0.8739\n"
          ]
        }
      ]
    },
    {
      "cell_type": "code",
      "source": [
        "#\n",
        "# HW5\n",
        "#\n",
        "\n",
        "# Bi-LSTM\n",
        "modelBi = Sequential()\n",
        "modelBi.add(Embedding(n_unique_words, n_dim, input_length=max_message_length)) \n",
        "modelBi.add(SpatialDropout1D(drop_embed))\n",
        "modelBi.add(Bidirectional(LSTM(n_lstm_1, dropout=drop_lstm, return_sequences=True)))\n",
        "modelBi.add(Dense(1, activation='sigmoid'))\n",
        "\n",
        "# Stacked Bi-LSTM\n",
        "modelSt = Sequential()\n",
        "modelSt.add(Embedding(n_unique_words, n_dim, input_length=max_message_length)) \n",
        "modelSt.add(SpatialDropout1D(drop_embed))\n",
        "modelSt.add(Bidirectional(LSTM(n_lstm_1, dropout=drop_lstm, return_sequences=True)))\n",
        "modelSt.add(Bidirectional(LSTM(n_lstm_2, dropout=drop_lstm)))\n",
        "modelSt.add(Dense(1, activation='sigmoid'))\n",
        "\n",
        "modelBi.compile(loss='binary_crossentropy', optimizer='adam', metrics=['accuracy'])\n",
        "modelSt.compile(loss='binary_crossentropy', optimizer='adam', metrics=['accuracy'])\n"
      ],
      "metadata": {
        "id": "8QdCu_hBJQLC"
      },
      "execution_count": null,
      "outputs": []
    },
    {
      "cell_type": "code",
      "source": [
        "# GRU\n",
        "modelGRU = Sequential()\n",
        "modelGRU.add(Embedding(n_unique_words, n_dim, input_length=max_message_length)) \n",
        "modelGRU.add(SpatialDropout1D(drop_embed))\n",
        "modelGRU.add(GRU(n_gru, dropout=drop_gru))\n",
        "modelGRU.add(Dense(1, activation='sigmoid'))\n",
        "\n",
        "# Conv-LSTM\n",
        "modelCL = Sequential()\n",
        "modelCL.add(Embedding(n_unique_words, n_dim, input_length=max_message_length)) \n",
        "modelCL.add(SpatialDropout1D(drop_embed))\n",
        "modelCL.add(Conv1D(n_conv, k_conv, activation='relu'))\n",
        "modelCL.add(MaxPooling1D(mp_size))\n",
        "modelCL.add(Bidirectional(LSTM(n_lstm_1, dropout=drop_lstm, return_sequences=True)))\n",
        "modelCL.add(Dense(1, activation='sigmoid'))\n",
        "\n",
        "modelGRU.compile(loss='binary_crossentropy', optimizer='adam', metrics=['accuracy'])\n",
        "modelCL.compile(loss='binary_crossentropy', optimizer='adam', metrics=['accuracy'])"
      ],
      "metadata": {
        "id": "4twBOHuGJTT7"
      },
      "execution_count": null,
      "outputs": []
    },
    {
      "cell_type": "code",
      "source": [
        "# Multi-ConvNet\n",
        "input_layer = Input(shape=(max_message_length,), dtype='int16', name='input')\n",
        "\n",
        "embedding_layer = Embedding(n_unique_words, n_dim, name='embedding')(input_layer)\n",
        "drop_embed_layer = SpatialDropout1D(drop_embed, name='drop_embed')(embedding_layer)\n",
        "\n",
        "conv_1 = Conv1D(n_conv_1, k_conv_1, activation='relu', name='conv_1')(drop_embed_layer)\n",
        "maxp_1 = GlobalMaxPooling1D(name='maxp_1')(conv_1)\n",
        "\n",
        "conv_2 = Conv1D(n_conv_2, k_conv_2, activation='relu', name='conv_2')(drop_embed_layer)\n",
        "maxp_2 = GlobalMaxPooling1D(name='maxp_2')(conv_2)\n",
        "\n",
        "conv_3 = Conv1D(n_conv_3, k_conv_3, activation='relu', name='conv_3')(drop_embed_layer)\n",
        "maxp_3 = GlobalMaxPooling1D(name='maxp_3')(conv_3)\n",
        "\n",
        "concat = concatenate([maxp_1, maxp_2, maxp_3])\n",
        "\n",
        "dense_layer = Dense(n_dense, activation='relu', name='dense')(concat)\n",
        "drop_dense_layer = Dropout(dropout, name='drop_dense')(dense_layer)\n",
        "dense_2 = Dense(int(n_dense/4), activation='relu', name='dense_2')(drop_dense_layer)\n",
        "dropout_2 = Dropout(dropout, name='drop_dense_2')(dense_2)\n",
        "\n",
        "predictions = Dense(1, activation='sigmoid', name='output')(dropout_2)\n",
        "\n",
        "modelMCN = Model(input_layer, predictions)\n",
        "\n",
        "modelMCN.compile(loss='binary_crossentropy', optimizer='adam', metrics=['accuracy'])"
      ],
      "metadata": {
        "id": "5705wF0QJVOk"
      },
      "execution_count": null,
      "outputs": []
    },
    {
      "cell_type": "code",
      "source": [
        "# Fitting HW5 models\n",
        "historyBi =  modelBi.fit(x_train, y_train, batch_size=batch_size, epochs=epochs, verbose=1, validation_data=(x_test, y_test))\n",
        "historySt =  modelSt.fit(x_train, y_train, batch_size=batch_size, epochs=epochs, verbose=1, validation_data=(x_test, y_test))\n",
        "historyGRU =  modelGRU.fit(x_train, y_train, batch_size=batch_size, epochs=epochs, verbose=1, validation_data=(x_test, y_test))\n",
        "historyCL =  modelCL.fit(x_train, y_train, batch_size=batch_size, epochs=epochs, verbose=1, validation_data=(x_test, y_test))\n",
        "historyMCN =  modelMCN.fit(x_train, y_train, batch_size=batch_size, epochs=epochs, verbose=1, validation_data=(x_test, y_test))"
      ],
      "metadata": {
        "colab": {
          "base_uri": "https://localhost:8080/"
        },
        "id": "5OAKSRP2Lc2U",
        "outputId": "6acf59f3-d2a9-46fe-bac3-f240c097bcee"
      },
      "execution_count": null,
      "outputs": [
        {
          "output_type": "stream",
          "name": "stdout",
          "text": [
            "Epoch 1/3\n",
            "30/30 [==============================] - 20s 517ms/step - loss: 0.4517 - accuracy: 0.8456 - val_loss: 0.3860 - val_accuracy: 0.8631\n",
            "Epoch 2/3\n",
            "30/30 [==============================] - 16s 534ms/step - loss: 0.3549 - accuracy: 0.8785 - val_loss: 0.2191 - val_accuracy: 0.9484\n",
            "Epoch 3/3\n",
            "30/30 [==============================] - 14s 482ms/step - loss: 0.1237 - accuracy: 0.9667 - val_loss: 0.0918 - val_accuracy: 0.9785\n",
            "Epoch 1/3\n",
            "30/30 [==============================] - 37s 974ms/step - loss: 0.3858 - accuracy: 0.8615 - val_loss: 0.2101 - val_accuracy: 0.8631\n",
            "Epoch 2/3\n",
            "30/30 [==============================] - 27s 903ms/step - loss: 0.0974 - accuracy: 0.9744 - val_loss: 0.0673 - val_accuracy: 0.9846\n",
            "Epoch 3/3\n",
            "30/30 [==============================] - 27s 911ms/step - loss: 0.0314 - accuracy: 0.9937 - val_loss: 0.0609 - val_accuracy: 0.9852\n",
            "Epoch 1/3\n",
            "30/30 [==============================] - 27s 821ms/step - loss: 0.4020 - accuracy: 0.8567 - val_loss: 0.2247 - val_accuracy: 0.8656\n",
            "Epoch 2/3\n",
            "30/30 [==============================] - 22s 744ms/step - loss: 0.0976 - accuracy: 0.9598 - val_loss: 0.0635 - val_accuracy: 0.9815\n",
            "Epoch 3/3\n",
            "30/30 [==============================] - 22s 747ms/step - loss: 0.0286 - accuracy: 0.9913 - val_loss: 0.0535 - val_accuracy: 0.9840\n",
            "Epoch 1/3\n",
            "30/30 [==============================] - 10s 190ms/step - loss: 0.4564 - accuracy: 0.8666 - val_loss: 0.3919 - val_accuracy: 0.8619\n",
            "Epoch 2/3\n",
            "30/30 [==============================] - 5s 157ms/step - loss: 0.3368 - accuracy: 0.8700 - val_loss: 0.1912 - val_accuracy: 0.8999\n",
            "Epoch 3/3\n",
            "30/30 [==============================] - 6s 206ms/step - loss: 0.1015 - accuracy: 0.9734 - val_loss: 0.0979 - val_accuracy: 0.9800\n",
            "Epoch 1/3\n",
            "30/30 [==============================] - 16s 519ms/step - loss: 0.4582 - accuracy: 0.8578 - val_loss: 0.3570 - val_accuracy: 0.8619\n",
            "Epoch 2/3\n",
            "30/30 [==============================] - 15s 513ms/step - loss: 0.2970 - accuracy: 0.8670 - val_loss: 0.1738 - val_accuracy: 0.8619\n",
            "Epoch 3/3\n",
            "30/30 [==============================] - 15s 516ms/step - loss: 0.1430 - accuracy: 0.8723 - val_loss: 0.1288 - val_accuracy: 0.8798\n"
          ]
        }
      ]
    },
    {
      "cell_type": "code",
      "source": [
        "# Evaluations can be done on the basis of ROC-AUC. You have to draw the ROC-AUC curve for each model.\n",
        "def makeROC(model, name, lstm):\n",
        "  print(name)\n",
        "  y_hat = model.predict(x_test)\n",
        "  new_y = y_hat\n",
        "  if lstm:\n",
        "    y_prob = model.predict(x_test)\n",
        "    new_y = y_prob[:,1]\n",
        "  fpr , tpr , thresholds = roc_curve (y_test , new_y)\n",
        "  plt.plot(fpr,tpr) \n",
        "  plt.axis([0,1,0,1]) \n",
        "  plt.title('False Positive Rate vs True Positive Rate ROC-AUC')\n",
        "  plt.xlabel('False Positive Rate') \n",
        "  plt.ylabel('True Positive Rate') \n",
        "  plt.show()\n",
        "  print(\"{:0.2f}\".format(roc_auc_score(y_test, new_y)*100.0))\n",
        "  print(\"====================================\")\n",
        "\n",
        "makeROC(model1, \"Dense\", False)\n",
        "makeROC(model2, \"CNN\", False)\n",
        "makeROC(model3, \"RNN\", False)\n",
        "makeROC(model4, \"LSTM\", True)"
      ],
      "metadata": {
        "id": "OGYVHEK6IHEt",
        "colab": {
          "base_uri": "https://localhost:8080/",
          "height": 1000
        },
        "outputId": "4d9b93a7-ba03-4cce-91c6-21167dfe4537"
      },
      "execution_count": null,
      "outputs": [
        {
          "output_type": "stream",
          "name": "stdout",
          "text": [
            "Dense\n",
            "51/51 [==============================] - 0s 4ms/step\n"
          ]
        },
        {
          "output_type": "display_data",
          "data": {
            "text/plain": [
              "<Figure size 432x288 with 1 Axes>"
            ],
            "image/png": "[encoded data removed]"
          },
          "metadata": {
            "needs_background": "light"
          }
        },
        {
          "output_type": "stream",
          "name": "stdout",
          "text": [
            "99.29\n",
            "====================================\n",
            "CNN\n",
            "51/51 [==============================] - 0s 5ms/step\n"
          ]
        },
        {
          "output_type": "display_data",
          "data": {
            "text/plain": [
              "<Figure size 432x288 with 1 Axes>"
            ],
            "image/png": "[encoded data removed]"
          },
          "metadata": {
            "needs_background": "light"
          }
        },
        {
          "output_type": "stream",
          "name": "stdout",
          "text": [
            "96.56\n",
            "====================================\n",
            "RNN\n",
            "51/51 [==============================] - 2s 39ms/step\n"
          ]
        },
        {
          "output_type": "display_data",
          "data": {
            "text/plain": [
              "<Figure size 432x288 with 1 Axes>"
            ],
            "image/png": "[encoded data removed]"
          },
          "metadata": {
            "needs_background": "light"
          }
        },
        {
          "output_type": "stream",
          "name": "stdout",
          "text": [
            "91.48\n",
            "====================================\n",
            "LSTM\n",
            "51/51 [==============================] - 0s 4ms/step\n",
            "51/51 [==============================] - 0s 4ms/step\n"
          ]
        },
        {
          "output_type": "display_data",
          "data": {
            "text/plain": [
              "<Figure size 432x288 with 1 Axes>"
            ],
            "image/png": "[encoded data removed]"
          },
          "metadata": {
            "needs_background": "light"
          }
        },
        {
          "output_type": "stream",
          "name": "stdout",
          "text": [
            "50.04\n",
            "====================================\n"
          ]
        }
      ]
    },
    {
      "cell_type": "code",
      "source": [
        "from keras.layers.core import Reshape\n",
        "from sklearn.datasets import make_classification\n",
        "\n",
        "def makeROC(model, name, lstm):\n",
        "  print(name)\n",
        "  y_hat = model.predict(x_test)\n",
        "  new_y = y_hat\n",
        "  if lstm:\n",
        "    y_prob = model.predict(x_test)\n",
        "    new_y = y_prob[:,1]\n",
        "  fpr , tpr , thresholds = roc_curve (y_test , new_y)\n",
        "  plt.plot(fpr,tpr) \n",
        "  plt.axis([0,1,0,1]) \n",
        "  plt.title('False Positive Rate vs True Positive Rate ROC-AUC')\n",
        "  plt.xlabel('False Positive Rate') \n",
        "  plt.ylabel('True Positive Rate') \n",
        "  plt.show()\n",
        "  print(\"{:0.2f}\".format(roc_auc_score(y_test, new_y)*100.0))\n",
        "  print(\"====================================\")\n",
        "\n",
        "makeROC(modelBi, \"Bi-LSTM\", True)\n",
        "makeROC(modelSt, \"Stacked Bi-LSTM\", False)\n",
        "makeROC(modelGRU, \"GRU\", False)\n",
        "makeROC(modelCL, \"Conv-LSTM\", True)\n",
        "makeROC(modelMCN, \"Multi-ConvNet\", False)"
      ],
      "metadata": {
        "colab": {
          "base_uri": "https://localhost:8080/",
          "height": 1000
        },
        "id": "IVbUT2RUNT88",
        "outputId": "efcb74db-1cd3-4821-b85a-9d11c06cf1d7"
      },
      "execution_count": null,
      "outputs": [
        {
          "output_type": "stream",
          "name": "stdout",
          "text": [
            "Bi-LSTM\n",
            "51/51 [==============================] - 2s 33ms/step\n",
            "51/51 [==============================] - 2s 33ms/step\n"
          ]
        },
        {
          "output_type": "display_data",
          "data": {
            "text/plain": [
              "<Figure size 432x288 with 1 Axes>"
            ],
            "image/png": "[encoded data removed]"
          },
          "metadata": {
            "needs_background": "light"
          }
        },
        {
          "output_type": "stream",
          "name": "stdout",
          "text": [
            "97.00\n",
            "====================================\n",
            "Stacked Bi-LSTM\n",
            "51/51 [==============================] - 5s 67ms/step\n"
          ]
        },
        {
          "output_type": "display_data",
          "data": {
            "text/plain": [
              "<Figure size 432x288 with 1 Axes>"
            ],
            "image/png": "[encoded data removed]"
          },
          "metadata": {
            "needs_background": "light"
          }
        },
        {
          "output_type": "stream",
          "name": "stdout",
          "text": [
            "99.41\n",
            "====================================\n",
            "GRU\n",
            "51/51 [==============================] - 6s 117ms/step\n"
          ]
        },
        {
          "output_type": "display_data",
          "data": {
            "text/plain": [
              "<Figure size 432x288 with 1 Axes>"
            ],
            "image/png": "[encoded data removed]"
          },
          "metadata": {
            "needs_background": "light"
          }
        },
        {
          "output_type": "stream",
          "name": "stdout",
          "text": [
            "99.16\n",
            "====================================\n",
            "Conv-LSTM\n",
            "51/51 [==============================] - 2s 15ms/step\n",
            "51/51 [==============================] - 1s 15ms/step\n"
          ]
        },
        {
          "output_type": "display_data",
          "data": {
            "text/plain": [
              "<Figure size 432x288 with 1 Axes>"
            ],
            "image/png": "[encoded data removed]"
          },
          "metadata": {
            "needs_background": "light"
          }
        },
        {
          "output_type": "stream",
          "name": "stdout",
          "text": [
            "98.29\n",
            "====================================\n",
            "Multi-ConvNet\n",
            "51/51 [==============================] - 2s 34ms/step\n"
          ]
        },
        {
          "output_type": "display_data",
          "data": {
            "text/plain": [
              "<Figure size 432x288 with 1 Axes>"
            ],
            "image/png": "[encoded data removed]"
          },
          "metadata": {
            "needs_background": "light"
          }
        },
        {
          "output_type": "stream",
          "name": "stdout",
          "text": [
            "98.91\n",
            "====================================\n"
          ]
        }
      ]
    },
    {
      "cell_type": "code",
      "source": [
        "# 6\n",
        "#    Tune your model\n",
        "# Select the model which performed the best in the previous step and then tune the hyperparameters\n",
        "# Improved CNN\n",
        "model5 = Sequential()\n",
        "\n",
        "model5.add(Embedding(n_unique_words, n_dim, input_length=cnn_max_review))\n",
        "model5.add(SpatialDropout1D(drop_embed))\n",
        "\n",
        "model5.add(Conv1D(n_conv,k_conv,activation = 'relu'))\n",
        "model5.add(GlobalMaxPool1D())\n",
        "\n",
        "model5.add(Dense(64, activation='relu'))\n",
        "model5.add(Dense(128,activation='relu'))\n",
        "model5.add(Dropout(0.4))\n",
        "model5.add(Dense(1,activation = 'sigmoid'))\n",
        "\n",
        "model5.compile(loss='binary_crossentropy', optimizer='adam', metrics=['accuracy'])\n",
        "history5 =  model5.fit(x_train, y_train, batch_size=batch_size, epochs=epochs, verbose=1, validation_data=(x_test, y_test))\n"
      ],
      "metadata": {
        "id": "c2MsqF3FdQLS",
        "colab": {
          "base_uri": "https://localhost:8080/"
        },
        "outputId": "2151a0a6-f990-442f-be57-8b9365adf07c"
      },
      "execution_count": null,
      "outputs": [
        {
          "output_type": "stream",
          "name": "stdout",
          "text": [
            "Epoch 1/3\n",
            "30/30 [==============================] - 3s 83ms/step - loss: 0.5026 - accuracy: 0.8580 - val_loss: 0.3820 - val_accuracy: 0.8619\n",
            "Epoch 2/3\n",
            "30/30 [==============================] - 2s 73ms/step - loss: 0.3255 - accuracy: 0.8673 - val_loss: 0.2379 - val_accuracy: 0.8619\n",
            "Epoch 3/3\n",
            "30/30 [==============================] - 2s 73ms/step - loss: 0.1539 - accuracy: 0.9204 - val_loss: 0.0856 - val_accuracy: 0.9877\n"
          ]
        }
      ]
    },
    {
      "cell_type": "code",
      "source": [
        "# 7 \n",
        "#tune your hw5's model\n",
        "modelSt_new = Sequential()\n",
        "modelSt_new.add(Embedding(n_unique_words, n_dim, input_length=max_message_length)) \n",
        "modelSt_new.add(SpatialDropout1D(drop_embed))\n",
        "modelSt_new.add(Bidirectional(LSTM(n_lstm_1, dropout=0.4, return_sequences=True)))\n",
        "modelSt_new.add(Bidirectional(LSTM(n_lstm_2, dropout=0.4)))\n",
        "modelSt_new.add(Dense(1, activation='sigmoid'))\n",
        "modelSt_new.compile(loss='binary_crossentropy', optimizer='adam', metrics=['accuracy'])\n",
        "modelSt_new.compile(loss='binary_crossentropy', optimizer='adam', metrics=['accuracy'])\n",
        "history6 =  model5.fit(x_train, y_train, batch_size=batch_size, epochs=epochs, verbose=1, validation_data=(x_test, y_test))"
      ],
      "metadata": {
        "colab": {
          "base_uri": "https://localhost:8080/"
        },
        "id": "jVXVxddKCyJI",
        "outputId": "42ff4101-6a8d-4f1f-e077-60e086b22595"
      },
      "execution_count": null,
      "outputs": [
        {
          "output_type": "stream",
          "name": "stdout",
          "text": [
            "Epoch 1/3\n",
            "30/30 [==============================] - 4s 130ms/step - loss: 0.0367 - accuracy: 0.9915 - val_loss: 0.0466 - val_accuracy: 0.9901\n",
            "Epoch 2/3\n",
            "30/30 [==============================] - 2s 73ms/step - loss: 0.0098 - accuracy: 0.9966 - val_loss: 0.0506 - val_accuracy: 0.9895\n",
            "Epoch 3/3\n",
            "30/30 [==============================] - 2s 74ms/step - loss: 0.0037 - accuracy: 0.9992 - val_loss: 0.0560 - val_accuracy: 0.9889\n"
          ]
        }
      ]
    },
    {
      "cell_type": "code",
      "source": [
        "# 8\n",
        "#The best model us the Bi-LSTM model, the accuracy is the highest when come to other models such as GRU at 99.13 when compared to 99.37, with that being said, the Bi-LSTM model\n",
        "# is the most effective"
      ],
      "metadata": {
        "id": "BNvAP7ZmMOe9"
      },
      "execution_count": null,
      "outputs": []
    }
  ]
}